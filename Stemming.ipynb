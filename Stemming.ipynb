{
 "cells": [
  {
   "cell_type": "code",
   "execution_count": 1,
   "id": "cc5f484e",
   "metadata": {},
   "outputs": [],
   "source": [
    "import nltk\n",
    "\n",
    "paragraph = \"\"\"Lorem Ipsum is simply dummy text of the printing and typesetting \n",
    "industry. Lorem Ipsum has been the industry's standard dummy text ever since\n",
    "the 1500s, when an unknown printer took a galley of type and scrambled it\n",
    "to make a type specimen book. It has survived not only five centuries, but\n",
    "also the leap into electronic typesetting, remaining essentially unchanged.\n",
    "It was popularised in the 1960s with the release of Letraset sheets containing\n",
    "Lorem Ipsum passages, and more recently with desktop publishing software like\n",
    "Aldus PageMaker including versions of Lorem Ipsum.\"\"\""
   ]
  },
  {
   "cell_type": "code",
   "execution_count": 2,
   "id": "5f5891c9",
   "metadata": {},
   "outputs": [
    {
     "name": "stdout",
     "output_type": "stream",
     "text": [
      "['Lorem Ipsum is simply dummy text of the printing and typesetting \\nindustry.', \"Lorem Ipsum has been the industry's standard dummy text ever since\\nthe 1500s, when an unknown printer took a galley of type and scrambled it\\nto make a type specimen book.\", 'It has survived not only five centuries, but\\nalso the leap into electronic typesetting, remaining essentially unchanged.', 'It was popularised in the 1960s with the release of Letraset sheets containing\\nLorem Ipsum passages, and more recently with desktop publishing software like\\nAldus PageMaker including versions of Lorem Ipsum.']\n",
      "4\n"
     ]
    }
   ],
   "source": [
    "# Tokenize Sentences\n",
    "sentences = nltk.sent_tokenize(paragraph)\n",
    "print(sentences)\n",
    "print(len(sentences))"
   ]
  },
  {
   "cell_type": "code",
   "execution_count": 3,
   "id": "0487c89b",
   "metadata": {},
   "outputs": [
    {
     "data": {
      "text/plain": [
       "100"
      ]
     },
     "execution_count": 3,
     "metadata": {},
     "output_type": "execute_result"
    }
   ],
   "source": [
    "# Tokenize Words\n",
    "words = nltk.word_tokenize(paragraph)\n",
    "len(words)"
   ]
  },
  {
   "cell_type": "code",
   "execution_count": 4,
   "id": "5742340c",
   "metadata": {},
   "outputs": [
    {
     "name": "stdout",
     "output_type": "stream",
     "text": [
      "['lorem ipsum simpli dummi text print typeset industri .', \"lorem ipsum industri 's standard dummi text ever sinc 1500 , unknown printer took galley type scrambl make type specimen book .\", 'it surviv five centuri , also leap electron typeset , remain essenti unchang .', 'it popularis 1960 releas letraset sheet contain lorem ipsum passag , recent desktop publish softwar like aldu pagemak includ version lorem ipsum .']\n"
     ]
    }
   ],
   "source": [
    "# Removing stopwords and stemming the words\n",
    "from nltk.corpus import stopwords\n",
    "from nltk.stem import PorterStemmer\n",
    "sentences_stem=[]\n",
    "stemmer = PorterStemmer()\n",
    "for i in range(len(sentences)):\n",
    "    words = nltk.word_tokenize(sentences[i])\n",
    "    words = [stemmer.stem(word) for word in words if word not in set(stopwords.words('english'))]\n",
    "    sentences_stem.append(' '.join(words))\n",
    "print(sentences_stem)"
   ]
  },
  {
   "cell_type": "code",
   "execution_count": null,
   "id": "f1de53c9",
   "metadata": {},
   "outputs": [],
   "source": []
  }
 ],
 "metadata": {
  "kernelspec": {
   "display_name": "Python 3 (ipykernel)",
   "language": "python",
   "name": "python3"
  },
  "language_info": {
   "codemirror_mode": {
    "name": "ipython",
    "version": 3
   },
   "file_extension": ".py",
   "mimetype": "text/x-python",
   "name": "python",
   "nbconvert_exporter": "python",
   "pygments_lexer": "ipython3",
   "version": "3.9.12"
  }
 },
 "nbformat": 4,
 "nbformat_minor": 5
}
