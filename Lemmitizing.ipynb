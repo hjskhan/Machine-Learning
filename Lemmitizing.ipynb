{
 "cells": [
  {
   "cell_type": "code",
   "execution_count": 1,
   "id": "e8bd1a47",
   "metadata": {},
   "outputs": [],
   "source": [
    "import nltk\n",
    "\n",
    "paragraph = \"\"\"Lorem Ipsum is simply dummy text of the printing and typesetting \n",
    "industry. Lorem Ipsum has been the industry's standard dummy text ever since\n",
    "the 1500s, when an unknown printer took a galley of type and scrambled it\n",
    "to make a type specimen book. It has survived not only five centuries, but\n",
    "also the leap into electronic typesetting, remaining essentially unchanged.\n",
    "It was popularised in the 1960s with the release of Letraset sheets containing\n",
    "Lorem Ipsum passages, and more recently with desktop publishing software like\n",
    "Aldus PageMaker including versions of Lorem Ipsum.\"\"\""
   ]
  },
  {
   "cell_type": "code",
   "execution_count": 2,
   "id": "8b218dea",
   "metadata": {},
   "outputs": [
    {
     "name": "stdout",
     "output_type": "stream",
     "text": [
      "['Lorem Ipsum is simply dummy text of the printing and typesetting \\nindustry.', \"Lorem Ipsum has been the industry's standard dummy text ever since\\nthe 1500s, when an unknown printer took a galley of type and scrambled it\\nto make a type specimen book.\", 'It has survived not only five centuries, but\\nalso the leap into electronic typesetting, remaining essentially unchanged.', 'It was popularised in the 1960s with the release of Letraset sheets containing\\nLorem Ipsum passages, and more recently with desktop publishing software like\\nAldus PageMaker including versions of Lorem Ipsum.']\n",
      "4\n"
     ]
    }
   ],
   "source": [
    "# Tokenize Sentences\n",
    "sentences = nltk.sent_tokenize(paragraph)\n",
    "print(sentences)\n",
    "print(len(sentences))"
   ]
  },
  {
   "cell_type": "code",
   "execution_count": 4,
   "id": "91a45775",
   "metadata": {},
   "outputs": [
    {
     "data": {
      "text/plain": [
       "100"
      ]
     },
     "execution_count": 4,
     "metadata": {},
     "output_type": "execute_result"
    }
   ],
   "source": [
    "# Tokenize Words\n",
    "words = nltk.word_tokenize(paragraph)\n",
    "len(words)"
   ]
  },
  {
   "cell_type": "code",
   "execution_count": 6,
   "id": "cdaad2c6",
   "metadata": {},
   "outputs": [
    {
     "data": {
      "text/plain": [
       "['Lorem Ipsum simply dummy text printing typesetting industry .',\n",
       " \"Lorem Ipsum industry 's standard dummy text ever since 1500s , unknown printer took galley type scrambled make type specimen book .\",\n",
       " 'It survived five century , also leap electronic typesetting , remaining essentially unchanged .',\n",
       " 'It popularised 1960s release Letraset sheet containing Lorem Ipsum passage , recently desktop publishing software like Aldus PageMaker including version Lorem Ipsum .']"
      ]
     },
     "execution_count": 6,
     "metadata": {},
     "output_type": "execute_result"
    }
   ],
   "source": [
    "from nltk.stem import WordNetLemmatizer \n",
    "from nltk.corpus import stopwords\n",
    "lemmitizer = WordNetLemmatizer()\n",
    "sentences_lem = []\n",
    "for i in range(len(sentences)):\n",
    "    words = nltk.word_tokenize(sentences[i])\n",
    "    words = [lemmitizer.lemmatize(word) for word in words if word not in stopwords.words('english')]\n",
    "    sentences_lem.append(' '.join(words))\n",
    "    \n",
    "sentences_lem"
   ]
  },
  {
   "cell_type": "code",
   "execution_count": null,
   "id": "06fef503",
   "metadata": {},
   "outputs": [],
   "source": []
  }
 ],
 "metadata": {
  "kernelspec": {
   "display_name": "Python 3 (ipykernel)",
   "language": "python",
   "name": "python3"
  },
  "language_info": {
   "codemirror_mode": {
    "name": "ipython",
    "version": 3
   },
   "file_extension": ".py",
   "mimetype": "text/x-python",
   "name": "python",
   "nbconvert_exporter": "python",
   "pygments_lexer": "ipython3",
   "version": "3.9.12"
  }
 },
 "nbformat": 4,
 "nbformat_minor": 5
}
