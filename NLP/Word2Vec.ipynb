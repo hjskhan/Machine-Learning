{
 "cells": [
  {
   "cell_type": "code",
   "execution_count": 187,
   "id": "b40076a7",
   "metadata": {},
   "outputs": [],
   "source": [
    "import nltk\n",
    "paragraph = \"\"\"Lorem Ipsum is simply dummy text of the printing and typesetting \n",
    "industry. Lorem Ipsum has been the industry's standard dummy text ever since\n",
    "the 1500s, when an unknown printer took a galley of type and scrambled it\n",
    "to make a type specimen book. It has survived not only five centuries, but\n",
    "also the leap into electronic typesetting, remaining essentially unchanged.\n",
    "It was popularised in the 1960s with the release of Letraset sheets containing\n",
    "Lorem Ipsum passages, and more recently with desktop publishing software like\n",
    "Aldus PageMaker including versions of Lorem Ipsum.\"\"\""
   ]
  },
  {
   "cell_type": "markdown",
   "id": "0bbd9f80",
   "metadata": {},
   "source": [
    "#### Text Preprocessing"
   ]
  },
  {
   "cell_type": "code",
   "execution_count": 188,
   "id": "272ff702",
   "metadata": {},
   "outputs": [],
   "source": [
    "import re\n",
    "text = re.sub(r'[\\d+]','',paragraph) # removing numbers\n",
    "text = re.sub(r'[\\n]',' ',text) # removing new line \n",
    "text = text.lower() # lowercasing the sentences"
   ]
  },
  {
   "cell_type": "markdown",
   "id": "fb3eb546",
   "metadata": {},
   "source": [
    "#### Words and sentences"
   ]
  },
  {
   "cell_type": "code",
   "execution_count": 189,
   "id": "c49c40eb",
   "metadata": {},
   "outputs": [],
   "source": [
    "from nltk.tokenize import word_tokenize\n",
    "from nltk.tokenize import sent_tokenize\n",
    "from nltk.stem import WordNetLemmatizer\n",
    "from nltk.corpus import stopwords\n",
    "lemitizer = WordNetLemmatizer()\n",
    "sentences = sent_tokenize(text)\n",
    "sentence  = [word_tokenize(sentence) for sentence in sentences]\n",
    "corpus = []\n",
    "# Extracting words from each sentence, lemmating it , remomving stop words\n",
    "for i in range(len(sentence)):\n",
    "    words = [lemitizer.lemmatize(word) for word in sentence[i] if word not in stopwords.words('english')]\n",
    "    corpus.append(words)"
   ]
  },
  {
   "cell_type": "markdown",
   "id": "4e94de0d",
   "metadata": {},
   "source": [
    "#### Converting words to vectors"
   ]
  },
  {
   "cell_type": "code",
   "execution_count": 190,
   "id": "640e747d",
   "metadata": {},
   "outputs": [],
   "source": [
    "from gensim.models import Word2Vec\n",
    "model = Word2Vec(corpus,min_count=1)\n",
    "wo = model.wv.index_to_key"
   ]
  },
  {
   "cell_type": "code",
   "execution_count": 191,
   "id": "5a0fd930",
   "metadata": {},
   "outputs": [
    {
     "data": {
      "text/plain": [
       "array([-5.3577905e-04,  2.2747641e-04,  5.1070275e-03,  9.0085100e-03,\n",
       "       -9.2984037e-03, -7.1245269e-03,  6.4534140e-03,  9.0064276e-03,\n",
       "       -4.9898648e-03, -3.7897048e-03,  7.3981560e-03, -1.5551065e-03,\n",
       "       -4.5461114e-03,  6.5702298e-03, -4.8662252e-03, -1.8263622e-03,\n",
       "        2.8879526e-03,  9.9543179e-04, -8.2833674e-03, -9.4639948e-03,\n",
       "        7.3001138e-03,  5.0807190e-03,  6.7565744e-03,  7.7616301e-04,\n",
       "        6.3449219e-03, -3.4052574e-03, -9.6306618e-04,  5.7904734e-03,\n",
       "       -7.5291698e-03, -3.9404952e-03, -7.5102663e-03, -9.5114997e-04,\n",
       "        9.5591508e-03, -7.3303548e-03, -2.3454896e-03, -1.9519061e-03,\n",
       "        8.0836657e-03, -5.9423493e-03,  4.0136681e-05, -4.7457600e-03,\n",
       "       -9.6044205e-03,  5.0094440e-03, -8.7807467e-03, -4.3887198e-03,\n",
       "       -3.9881201e-05, -3.3126876e-04, -7.6596024e-03,  9.5997769e-03,\n",
       "        4.9845483e-03,  9.2572877e-03, -8.1413807e-03,  4.4769188e-03,\n",
       "       -4.1297423e-03,  8.2858524e-04,  8.5064340e-03, -4.4565219e-03,\n",
       "        4.5382967e-03, -6.7820256e-03, -3.5437108e-03,  9.4134687e-03,\n",
       "       -1.5948670e-03,  3.2707199e-04, -4.1166334e-03, -7.6732510e-03,\n",
       "       -1.5347368e-03,  2.4886183e-03, -8.8401244e-04,  5.5368491e-03,\n",
       "       -2.7560838e-03,  2.2682357e-03,  5.4859337e-03,  8.3493162e-03,\n",
       "       -1.4339454e-03, -9.2217000e-03,  4.3853722e-03,  5.6778267e-04,\n",
       "        7.4532698e-03, -8.1425603e-04, -2.6637877e-03, -8.7673320e-03,\n",
       "       -8.8956940e-04,  2.8334442e-03,  5.3951978e-03,  7.0761861e-03,\n",
       "       -5.7046437e-03,  1.8786042e-03,  6.1035971e-03, -4.8006768e-03,\n",
       "       -3.1124267e-03,  6.8254811e-03,  1.6327470e-03,  1.8718380e-04,\n",
       "        3.4797939e-03,  2.1407331e-04,  9.6436366e-03,  5.0656926e-03,\n",
       "       -8.8984035e-03, -7.0334631e-03,  9.0277591e-04,  6.3955551e-03],\n",
       "      dtype=float32)"
      ]
     },
     "execution_count": 191,
     "metadata": {},
     "output_type": "execute_result"
    }
   ],
   "source": [
    "model.wv['lorem'] # vectors of 'lorem' word. Each word contains 100 vectors"
   ]
  },
  {
   "cell_type": "code",
   "execution_count": 192,
   "id": "51e1eaeb",
   "metadata": {},
   "outputs": [
    {
     "data": {
      "text/plain": [
       "[(\"'s\", 0.3190551996231079),\n",
       " ('release', 0.20385368168354034),\n",
       " ('since', 0.17476743459701538),\n",
       " ('desktop', 0.127742201089859),\n",
       " ('ever', 0.1193203404545784),\n",
       " ('scrambled', 0.11135418713092804),\n",
       " ('make', 0.10889209806919098),\n",
       " ('printer', 0.10583148151636124),\n",
       " ('pagemaker', 0.09666887670755386),\n",
       " ('lorem', 0.09303378313779831)]"
      ]
     },
     "execution_count": 192,
     "metadata": {},
     "output_type": "execute_result"
    }
   ],
   "source": [
    "model.wv.most_similar('industry') # The similar words for 'industry'"
   ]
  }
 ],
 "metadata": {
  "kernelspec": {
   "display_name": "Python 3 (ipykernel)",
   "language": "python",
   "name": "python3"
  },
  "language_info": {
   "codemirror_mode": {
    "name": "ipython",
    "version": 3
   },
   "file_extension": ".py",
   "mimetype": "text/x-python",
   "name": "python",
   "nbconvert_exporter": "python",
   "pygments_lexer": "ipython3",
   "version": "3.9.12"
  }
 },
 "nbformat": 4,
 "nbformat_minor": 5
}
