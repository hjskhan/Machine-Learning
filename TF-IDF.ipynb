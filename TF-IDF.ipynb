{
 "cells": [
  {
   "cell_type": "code",
   "execution_count": 2,
   "id": "5cbebea4",
   "metadata": {},
   "outputs": [],
   "source": [
    "import nltk\n",
    "paragraph = \"\"\"Lorem Ipsum is simply dummy text of the printing and typesetting \n",
    "industry. Lorem Ipsum has been the industry's standard dummy text ever since\n",
    "the 1500s, when an unknown printer took a galley of type and scrambled it\n",
    "to make a type specimen book. It has survived not only five centuries, but\n",
    "also the leap into electronic typesetting, remaining essentially unchanged.\n",
    "It was popularised in the 1960s with the release of Letraset sheets containing\n",
    "Lorem Ipsum passages, and more recently with desktop publishing software like\n",
    "Aldus PageMaker including versions of Lorem Ipsum.\"\"\""
   ]
  },
  {
   "cell_type": "code",
   "execution_count": 3,
   "id": "b9bf9b8e",
   "metadata": {},
   "outputs": [],
   "source": [
    "sentences = nltk.sent_tokenize(paragraph)\n",
    "words = nltk.word_tokenize(paragraph)"
   ]
  },
  {
   "cell_type": "code",
   "execution_count": 4,
   "id": "7e8edb01",
   "metadata": {},
   "outputs": [
    {
     "data": {
      "text/plain": [
       "['lorem ipsum simply dummy text printing typesetting industry',\n",
       " 'lorem ipsum industry standard dummy text ever since unknown printer took galley type scrambled make type specimen book',\n",
       " 'survived five century also leap electronic typesetting remaining essentially unchanged',\n",
       " 'popularised release letraset sheet containing lorem ipsum passage recently desktop publishing software like aldus pagemaker including version lorem ipsum']"
      ]
     },
     "execution_count": 4,
     "metadata": {},
     "output_type": "execute_result"
    }
   ],
   "source": [
    "import re\n",
    "from nltk.stem import WordNetLemmatizer\n",
    "from nltk.corpus import stopwords\n",
    "\n",
    "Lemmitizer = WordNetLemmatizer()\n",
    "sent_lem = []\n",
    "for i in range(len(sentences)):\n",
    "    words_lem = re.sub('[^a-zA-Z]',' ',sentences[i])\n",
    "    words_lem = words_lem.lower()\n",
    "    words_lem = words_lem.split()\n",
    "    words_lem = [Lemmitizer.lemmatize(word) for word in words_lem if word not in stopwords.words('english')]\n",
    "    sent_lem.append(' '.join(words_lem))\n",
    "    \n",
    "sent_lem"
   ]
  },
  {
   "cell_type": "code",
   "execution_count": 5,
   "id": "a5aa8d2f",
   "metadata": {},
   "outputs": [],
   "source": [
    "from sklearn.feature_extraction.text import TfidfVectorizer\n",
    "tfidf = TfidfVectorizer()\n",
    "X = tfidf.fit_transform(sent_lem).toarray()"
   ]
  },
  {
   "cell_type": "code",
   "execution_count": 6,
   "id": "524bf2c1",
   "metadata": {},
   "outputs": [
    {
     "data": {
      "text/plain": [
       "array([[0.        , 0.        , 0.        , 0.        , 0.        ,\n",
       "        0.        , 0.34242558, 0.        , 0.        , 0.        ,\n",
       "        0.        , 0.        , 0.        , 0.34242558, 0.27722302,\n",
       "        0.        , 0.        , 0.        , 0.27722302, 0.        ,\n",
       "        0.        , 0.        , 0.        , 0.        , 0.43432343,\n",
       "        0.        , 0.        , 0.        , 0.        , 0.        ,\n",
       "        0.        , 0.43432343, 0.        , 0.        , 0.        ,\n",
       "        0.        , 0.        , 0.34242558, 0.        , 0.        ,\n",
       "        0.34242558, 0.        , 0.        , 0.        ],\n",
       "       [0.        , 0.        , 0.23782845, 0.        , 0.        ,\n",
       "        0.        , 0.18750668, 0.        , 0.        , 0.23782845,\n",
       "        0.        , 0.23782845, 0.        , 0.18750668, 0.15180282,\n",
       "        0.        , 0.        , 0.        , 0.15180282, 0.23782845,\n",
       "        0.        , 0.        , 0.        , 0.23782845, 0.        ,\n",
       "        0.        , 0.        , 0.        , 0.        , 0.23782845,\n",
       "        0.        , 0.        , 0.23782845, 0.        , 0.23782845,\n",
       "        0.23782845, 0.        , 0.18750668, 0.23782845, 0.47565689,\n",
       "        0.        , 0.        , 0.23782845, 0.        ],\n",
       "       [0.        , 0.32238625, 0.        , 0.32238625, 0.        ,\n",
       "        0.        , 0.        , 0.32238625, 0.32238625, 0.        ,\n",
       "        0.32238625, 0.        , 0.        , 0.        , 0.        ,\n",
       "        0.32238625, 0.        , 0.        , 0.        , 0.        ,\n",
       "        0.        , 0.        , 0.        , 0.        , 0.        ,\n",
       "        0.        , 0.        , 0.        , 0.32238625, 0.        ,\n",
       "        0.        , 0.        , 0.        , 0.        , 0.        ,\n",
       "        0.        , 0.32238625, 0.        , 0.        , 0.        ,\n",
       "        0.25417303, 0.32238625, 0.        , 0.        ],\n",
       "       [0.23402278, 0.        , 0.        , 0.        , 0.23402278,\n",
       "        0.23402278, 0.        , 0.        , 0.        , 0.        ,\n",
       "        0.        , 0.        , 0.23402278, 0.        , 0.29874742,\n",
       "        0.        , 0.23402278, 0.23402278, 0.29874742, 0.        ,\n",
       "        0.23402278, 0.23402278, 0.23402278, 0.        , 0.        ,\n",
       "        0.23402278, 0.23402278, 0.23402278, 0.        , 0.        ,\n",
       "        0.23402278, 0.        , 0.        , 0.23402278, 0.        ,\n",
       "        0.        , 0.        , 0.        , 0.        , 0.        ,\n",
       "        0.        , 0.        , 0.        , 0.23402278]])"
      ]
     },
     "execution_count": 6,
     "metadata": {},
     "output_type": "execute_result"
    }
   ],
   "source": [
    "X"
   ]
  },
  {
   "cell_type": "code",
   "execution_count": null,
   "id": "aac61d0b",
   "metadata": {},
   "outputs": [],
   "source": []
  }
 ],
 "metadata": {
  "kernelspec": {
   "display_name": "Python 3 (ipykernel)",
   "language": "python",
   "name": "python3"
  },
  "language_info": {
   "codemirror_mode": {
    "name": "ipython",
    "version": 3
   },
   "file_extension": ".py",
   "mimetype": "text/x-python",
   "name": "python",
   "nbconvert_exporter": "python",
   "pygments_lexer": "ipython3",
   "version": "3.9.12"
  }
 },
 "nbformat": 4,
 "nbformat_minor": 5
}
